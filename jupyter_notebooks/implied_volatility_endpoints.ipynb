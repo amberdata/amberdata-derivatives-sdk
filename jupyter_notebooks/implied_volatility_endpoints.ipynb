{
 "cells": [
  {
   "cell_type": "code",
   "execution_count": 1,
   "id": "21c8991d",
   "metadata": {},
   "outputs": [],
   "source": [
    "import pandas as pd\n",
    "import matplotlib.pyplot as plt\n",
    "from amberdata_derivatives import AmberdataDerivatives\n",
    "from matplotlib.ticker import MaxNLocator\n",
    "import matplotlib.dates as mdates\n",
    "import mplfinance as mpf\n",
    "import numpy as np\n",
    "import seaborn as sns\n",
    "import time\n",
    "import warnings\n",
    "warnings.filterwarnings(\"ignore\")"
   ]
  },
  {
   "cell_type": "code",
   "execution_count": 2,
   "id": "ba515490",
   "metadata": {},
   "outputs": [],
   "source": [
    "# insert API key below\n",
    "amberdata_client = AmberdataDerivatives(api_key=\"\")"
   ]
  },
  {
   "cell_type": "markdown",
   "id": "87b9707b-637f-4ba5-a103-17ca03a1fdad",
   "metadata": {},
   "source": [
    "amberdata_client.get"
   ]
  },
  {
   "cell_type": "code",
   "execution_count": null,
   "id": "59bf8564",
   "metadata": {},
   "outputs": [],
   "source": [
    "btc = pd.DataFrame(amberdata_client.get_volatility_term_structures_constant(currency='BTC', exchange='deribit')['payload']['data'])\n",
    "eth = pd.DataFrame(amberdata_client.get_volatility_term_structures_constant(currency='ETH', exchange='deribit')['payload']['data'])\n",
    "\n",
    "# plot the atm BTC + ETH term structure\n",
    "plt.figure(figsize=(15, 7))\n",
    "plt.plot(eth.daysToExpiration, eth.atm, label='ETH')\n",
    "plt.plot(btc.daysToExpiration, btc.atm, label='BTC')\n",
    "plt.title(\"ATM Term Structure Comparison BTC vs. ETH as of \" + str(str(pd.to_datetime(btc.timestamp[0]))))\n",
    "plt.ylabel(\"Implied Volatility (%)\")\n",
    "plt.xlabel(\"DTE\")\n",
    "plt.legend()\n",
    "\n",
    "# plot BTC atm + atm forward vol\n",
    "plt.figure(figsize=(15, 7))\n",
    "plt.plot(btc.daysToExpiration, btc.atm, label='Mark')\n",
    "plt.plot(btc.daysToExpiration, btc.fwdAtm, label='Forward', linestyle='--')\n",
    "plt.title(\"ATM Term Structure Comparison BTC Mark vs Forward Curve \" + str(str(pd.to_datetime(btc.timestamp[0]))))\n",
    "plt.ylabel(\"Implied Volatility (%)\")\n",
    "plt.xlabel(\"DTE\")\n",
    "plt.legend();"
   ]
  },
  {
   "cell_type": "code",
   "execution_count": null,
   "id": "0b28bca1",
   "metadata": {},
   "outputs": [],
   "source": [
    "# plot atm BTC volatility\n",
    "data = amberdata_client.get_volatility_delta_surfaces_constant(currency='BTC', exchange='deribit', startDate='2024-01-01', endDate='2024-06-01', timeInterval='day')\n",
    "data = data['payload']['data']\n",
    "data = pd.DataFrame(data)\n",
    "\n",
    "date = pd.to_datetime(data[data.daysToExpiration==7].timestamp)\n",
    "\n",
    "plt.figure(figsize=(15, 7))\n",
    "plt.plot(date, data[data.daysToExpiration==7].atm, label='7 DTE')\n",
    "plt.plot(date, data[data.daysToExpiration==30].atm, label='30 DTE')\n",
    "plt.plot(date, data[data.daysToExpiration==60].atm, label='60 DTE')\n",
    "plt.plot(date, data[data.daysToExpiration==180].atm, label='180 DTE')\n",
    "plt.legend()\n",
    "plt.title(\"BTC ATM Volatility: 2024-01-01 to 2024-06-01\")\n",
    "plt.ylabel(\"ATM IV (%)\");"
   ]
  },
  {
   "cell_type": "code",
   "execution_count": null,
   "id": "2dc7b3a3",
   "metadata": {},
   "outputs": [],
   "source": [
    "# plot 25 delta BTC skew\n",
    "data = amberdata_client.get_volatility_delta_surfaces_constant(currency='BTC', exchange='deribit', startDate='2019-04-01', endDate='2022-06-01', timeInterval='day')\n",
    "data = data['payload']['data']\n",
    "data = pd.DataFrame(data)\n",
    "\n",
    "s7 = data[data.daysToExpiration==7]\n",
    "s30 = data[data.daysToExpiration==30]\n",
    "s90 = data[data.daysToExpiration==90]\n",
    "\n",
    "plt.figure(figsize=(15, 7))\n",
    "plt.plot(s7.deltaCall10 / s7.deltaCall25, label='7 DTE ∆10/∆25')\n",
    "plt.plot(s30.deltaCall10 / s30.deltaCall25, label='30 DTE ∆10/∆25')\n",
    "plt.plot(s90.deltaCall10 / s90.deltaCall25, label='90 DTE ∆10/∆25')\n",
    "plt.axhline(1, linestyle='--', c='r', alpha=0.50)\n",
    "plt.legend()\n",
    "plt.title(\"BTC ∆25/∆35 Ratio [Call - Put]: 2022-01-01 to 2024-06-01\")\n",
    "plt.ylabel(\"Skew [Call - Put] (%)\")"
   ]
  },
  {
   "cell_type": "code",
   "execution_count": null,
   "id": "f7141e29",
   "metadata": {},
   "outputs": [],
   "source": [
    "# plot BTC Deribit vol curves \n",
    "data = pd.DataFrame(amberdata_client.get_volatility_level_1_quotes(exchange='deribit', currency='btc')['payload']['data'])\n",
    "mats = sorted(set(data.expirationTimestamp))\n",
    "\n",
    "plt.figure(figsize=(15, 7))\n",
    "for mat in mats:\n",
    "    sub = data[data.expirationTimestamp == mat]\n",
    "    sub = sub.sort_values(\"strike\").reset_index(drop=True)\n",
    "    \n",
    "    plt.plot(sub.strike, sub.markIv, label=mat[:10])\n",
    "    plt.legend()\n",
    "    plt.title(\"BTC Volatility Curves as of \" + str(data.timestamp[0]))\n",
    "    plt.ylabel(\"Implied Volatility (%)\")\n",
    "    plt.xlabel(\"Strike ($)\")"
   ]
  },
  {
   "cell_type": "code",
   "execution_count": null,
   "id": "e9f27b91",
   "metadata": {},
   "outputs": [],
   "source": [
    "data = amberdata_client.get_volatility_term_structures_richness(exchange='deribit', currency='btc', startDate='2024-01-01', endDate='2024-05-01')\n",
    "data = pd.DataFrame(data['payload']['data'])\n",
    "data.index = pd.to_datetime(data.timestamp)\n",
    "\n",
    "plt.figure(figsize=(15, 7))\n",
    "plt.plot(data.richness)\n",
    "plt.title(\"BTC Term Structure Richness: 2024-01-01 to 2024-05-01\")\n",
    "plt.ylabel(\"Term Structure Richness Ratio\")"
   ]
  },
  {
   "cell_type": "code",
   "execution_count": null,
   "id": "f2e7c471",
   "metadata": {},
   "outputs": [],
   "source": [
    "# plot BTC DVOL \n",
    "dvol = amberdata_client.get_volatility_index(exchange='deribit', currency='btc', startDate='2024-01-01', endDate='2024-06-01', timeInterval='day')\n",
    "dvol = pd.DataFrame(dvol['payload']['data'])\n",
    "dvol.index = pd.to_datetime(dvol.exchangeTimestamp, unit='ms')\n",
    "dvol = dvol[dvol.currency=='BTC']\n",
    "dvol = dvol.sort_index()\n",
    "\n",
    "mpf.plot(dvol, type='candle', style='charles', figratio=(15, 7), \n",
    "         ylabel='DVOL Index', axtitle='BTC DVOL: 2024-01-01 to 2024-06-01', tight_layout=True)"
   ]
  },
  {
   "cell_type": "code",
   "execution_count": null,
   "id": "b5c42f04",
   "metadata": {},
   "outputs": [],
   "source": [
    "# plot DVOL vs spot and RR vs spot\n",
    "data = amberdata_client.get_volatility_index_decorated(exchange='deribit', currency='btc',  startDate='2024-01-01', endDate='2024-06-01', timeInterval='day')\n",
    "data = pd.DataFrame(data['payload']['data'])\n",
    "data.index = pd.to_datetime(data.exchangeTimestamp, unit='ms')\n",
    "data = data[data.currency=='BTC']\n",
    "data = data.sort_index()\n",
    "\n",
    "plt.figure(figsize=(15, 7))\n",
    "scatter = plt.scatter(data.indexPrice, data.atm, c=data.daysAgo, cmap='coolwarm')\n",
    "cbar = plt.colorbar(scatter)\n",
    "cbar.set_label('Days Ago')\n",
    "plt.title(\"BTC ATM IV & Spot: 2024-01-01 to 2024-06-01\")\n",
    "plt.xlabel(\"Spot Price\")\n",
    "plt.ylabel(\"ATM IV\")"
   ]
  },
  {
   "cell_type": "code",
   "execution_count": null,
   "id": "a570761e",
   "metadata": {},
   "outputs": [],
   "source": [
    "plt.figure(figsize=(15, 7))\n",
    "scatter = plt.scatter(data.indexPrice, data.delta25RrSkew, c=data.daysAgo, cmap='coolwarm')\n",
    "cbar = plt.colorbar(scatter)\n",
    "cbar.set_label('Days Ago')\n",
    "plt.title(\"BTC 25 Delta RR Skew & Spot: 2024-01-01 to 2024-06-01\")\n",
    "plt.xlabel(\"Spot Price\")\n",
    "plt.ylabel(\"25 RR Skew\")"
   ]
  },
  {
   "cell_type": "code",
   "execution_count": null,
   "id": "f8aa3708",
   "metadata": {},
   "outputs": [],
   "source": [
    "plt.figure(figsize=(15, 7))\n",
    "plt.plot(data.close/data.atm)\n",
    "plt.title(\"BTC DVOL / ATM 30 DTE IV: 2024-01-01 to 2024-06-01\")\n",
    "plt.ylabel(\"Butterfly Ratio\")"
   ]
  },
  {
   "cell_type": "code",
   "execution_count": null,
   "id": "651426ea",
   "metadata": {},
   "outputs": [],
   "source": [
    "# get vol metrics table\n",
    "data = amberdata_client.get_volatility_metrics(exchange='deribit', currency='btc', daysBack=7)\n",
    "data = pd.DataFrame(data['payload']['data'])\n",
    "data"
   ]
  }
 ],
 "metadata": {
  "kernelspec": {
   "display_name": "Python 3 (ipykernel)",
   "language": "python",
   "name": "python3"
  },
  "language_info": {
   "codemirror_mode": {
    "name": "ipython",
    "version": 3
   },
   "file_extension": ".py",
   "mimetype": "text/x-python",
   "name": "python",
   "nbconvert_exporter": "python",
   "pygments_lexer": "ipython3",
   "version": "3.12.3"
  }
 },
 "nbformat": 4,
 "nbformat_minor": 5
}
