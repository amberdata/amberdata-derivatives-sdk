{
 "cells": [
  {
   "cell_type": "code",
   "execution_count": 1,
   "id": "21c8991d",
   "metadata": {},
   "outputs": [],
   "source": [
    "import pandas as pd\n",
    "import matplotlib.pyplot as plt\n",
    "from amberdata_derivatives import AmberdataDerivatives\n",
    "from matplotlib.ticker import MaxNLocator\n",
    "import matplotlib.dates as mdates\n",
    "import mplfinance as mpf\n",
    "import numpy as np\n",
    "import seaborn as sns\n",
    "import time\n",
    "import warnings\n",
    "warnings.filterwarnings(\"ignore\")"
   ]
  },
  {
   "cell_type": "code",
   "execution_count": 2,
   "id": "ba515490",
   "metadata": {},
   "outputs": [],
   "source": [
    "# insert API key below\n",
    "amberdata_client = AmberdataDerivatives(api_key=\"\")"
   ]
  },
  {
   "cell_type": "markdown",
   "id": "87b9707b-637f-4ba5-a103-17ca03a1fdad",
   "metadata": {},
   "source": [
    "amberdata_client.get"
   ]
  },
  {
   "cell_type": "code",
   "execution_count": null,
   "id": "d73a416c",
   "metadata": {},
   "outputs": [],
   "source": [
    "# Plot BTC <> ETH correlation of log daily returns \n",
    "data = amberdata_client.get_realized_volatility_correlation_beta(exchange='gdax', pair='btc_usd', pair2='eth_usd')\n",
    "data = pd.DataFrame(data['payload']['data'])\n",
    "data.index = pd.to_datetime(data.timestamp, unit='ms')\n",
    "data = data[::-1]\n",
    "\n",
    "plt.figure(figsize=(15, 7))\n",
    "plt.plot(data.correlation180)\n",
    "plt.title(\"BTC <> ETH 180 Day RV Rolling Correlation: \" + str(data.index[0]) + \" to \" + str(data.iloc[-1].name))\n",
    "plt.ylabel(\"Rolling Correlation\")"
   ]
  },
  {
   "cell_type": "code",
   "execution_count": null,
   "id": "172c25be",
   "metadata": {},
   "outputs": [],
   "source": [
    "# Plot BTC Monthly vs Daily Realized Volatility \n",
    "data = amberdata_client.get_realized_volatility_monthly_vs_daily_ratio(exchange='gdax', pair='btc_usd')\n",
    "data = pd.DataFrame(data['payload']['data'])\n",
    "data.index = pd.to_datetime(data.timestamp, unit='ms')\n",
    "\n",
    "# only look at a subset of data\n",
    "data = data[:1000][::-1]\n",
    "plt.figure(figsize=(15, 7))\n",
    "plt.title(\"BTC Monthly vs Daily RV: \" + str(data.index[0]) + \" to \" + str(data.iloc[-1].name))\n",
    "plt.plot(data.monthlyHistoricalVolatility, label='Monthly RV')\n",
    "plt.plot(data.dailyHistoricalVolatility30Days, label='Daily RV')\n",
    "plt.ylabel(\"Realized Volatility (%)\")\n",
    "plt.legend();"
   ]
  },
  {
   "cell_type": "code",
   "execution_count": null,
   "id": "ade12193",
   "metadata": {},
   "outputs": [],
   "source": [
    "# plot BTC vol seasonality for day of week\n",
    "data = amberdata_client.get_realized_volatility_seasonality_day_of_week(exchange='gdax', pair='btc_usd', startDate='2024-01-01', endDate='2024-05-01')\n",
    "data = pd.DataFrame(data['payload']['data'])\n",
    "data = data[::-1]\n",
    "\n",
    "plt.figure(figsize=(15, 7))\n",
    "plt.bar(data.weekday, data.historicalVolatility1day)\n",
    "plt.ylabel(\"Average Realized Volatility (%)\")\n",
    "plt.title(\"BTC Seasonality: Volatility Day of Week: 2024-01-01 to 2024-05-01\");"
   ]
  },
  {
   "cell_type": "code",
   "execution_count": null,
   "id": "e79bbc42",
   "metadata": {},
   "outputs": [],
   "source": [
    "# plot BTC vol seasonality for month of year\n",
    "data = amberdata_client.get_realized_volatility_seasonality_month_of_year(exchange='gdax', pair='btc_usd', startDate='2024-01-01', endDate='2024-05-01')\n",
    "data = pd.DataFrame(data['payload']['data'])\n",
    "\n",
    "plt.figure(figsize=(15, 7))\n",
    "plt.bar(data.month, data.historicalVolatility1day)\n",
    "plt.ylabel(\"Average Realized Volatility (%)\")\n",
    "plt.title(\"BTC Seasonality: Volatility Month of Year: 2024-01-01 to 2024-05-01\");"
   ]
  },
  {
   "cell_type": "code",
   "execution_count": null,
   "id": "eb0d1e58",
   "metadata": {},
   "outputs": [],
   "source": [
    "# plot realized volatility cones for BTC \n",
    "data = amberdata_client.get_realized_volatility_cones(exchange='gdax', pair='btc_usd', startDate='2024-01-01', endDate='2024-05-01')\n",
    "data = pd.DataFrame(data['payload']['data'])\n",
    "data = data.iloc[:, 2:].T\n",
    "\n",
    "data['dte'] = [\n",
    "    int(''.join([char for char in column.split(\"_\")[1] if char.isdigit()]))\n",
    "    for column in data.index\n",
    "]\n",
    "data['vol_level'] = [data.index[i].split(\"_\")[0] for i in range(len(data))]\n",
    "data.columns = ['rv', 'dte', 'vol_level']\n",
    "\n",
    "cone_max = data[data.vol_level=='max'].sort_values('dte', ascending=True)\n",
    "cone_min = data[data.vol_level=='min'].sort_values('dte', ascending=True)\n",
    "cone_25p = data[data.vol_level=='p25'].sort_values('dte', ascending=True)\n",
    "cone_50p = data[data.vol_level=='p50'].sort_values('dte', ascending=True)\n",
    "cone_75p = data[data.vol_level=='p75'].sort_values('dte', ascending=True)\n",
    "cone_current = data[data.vol_level=='current'].sort_values('dte', ascending=True)\n",
    "\n",
    "plt.figure(figsize=(15, 7))\n",
    "plt.plot(cone_max.dte, cone_max.rv, label='Maximum')\n",
    "plt.plot(cone_25p.dte, cone_25p.rv, label='25th Percentile')\n",
    "plt.plot(cone_50p.dte, cone_50p.rv, label='50th Percentile')\n",
    "plt.plot(cone_75p.dte, cone_75p.rv, label='75th Percentile')\n",
    "plt.plot(cone_current.dte, cone_current.rv, label='Current')\n",
    "plt.plot(cone_min.dte, cone_min.rv, label='Minimum')\n",
    "\n",
    "plt.legend()\n",
    "plt.title(\"BTC RV Volatility Cone: 2024-01-01 to 2024-05-01\")\n",
    "plt.ylabel(\"Realized Volatility (%)\")\n",
    "plt.xlabel(\"DTE\")"
   ]
  },
  {
   "cell_type": "code",
   "execution_count": null,
   "id": "44003e83",
   "metadata": {},
   "outputs": [],
   "source": [
    "# plot IV vs RV + VRP \n",
    "data = amberdata_client.get_realized_volatility_implied_vs_realized(exchange='deribit', currency='btc', startDate='2024-01-01', endDate='2024-01-07')\n",
    "data = pd.DataFrame(data['payload']['data'])\n",
    "data.index = pd.to_datetime(data.timestamp, unit='ms')\n",
    "data['vrp'] = data.atm7 - data.realizedVolatility7\n",
    "\n",
    "plt.figure(figsize=(15, 7))\n",
    "plt.title(\"BTC ATM IV vs RV [7 DTE]: 2024-01-01 to 2024-01-05\")\n",
    "plt.bar(data.index, data.vrp, label='VRP [ATM - RV]', edgecolor='black', width=0.03)\n",
    "plt.plot(data.index, data.atm7, label='ATM 7 DTE')\n",
    "plt.plot(data.index, data.realizedVolatility7, label='RV 7 DTE')\n",
    "\n",
    "plt.ylabel(\"Volatility (%)\")\n",
    "plt.legend()\n",
    "plt.tight_layout()"
   ]
  }
 ],
 "metadata": {
  "kernelspec": {
   "display_name": "Python 3 (ipykernel)",
   "language": "python",
   "name": "python3"
  },
  "language_info": {
   "codemirror_mode": {
    "name": "ipython",
    "version": 3
   },
   "file_extension": ".py",
   "mimetype": "text/x-python",
   "name": "python",
   "nbconvert_exporter": "python",
   "pygments_lexer": "ipython3",
   "version": "3.12.3"
  }
 },
 "nbformat": 4,
 "nbformat_minor": 5
}
