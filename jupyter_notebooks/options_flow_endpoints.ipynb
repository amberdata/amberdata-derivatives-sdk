{
 "cells": [
  {
   "cell_type": "code",
   "execution_count": 1,
   "id": "21c8991d",
   "metadata": {},
   "outputs": [],
   "source": [
    "import pandas as pd\n",
    "import matplotlib.pyplot as plt\n",
    "from amberdata_derivatives import AmberdataDerivatives\n",
    "from matplotlib.ticker import MaxNLocator\n",
    "import matplotlib.dates as mdates\n",
    "import mplfinance as mpf\n",
    "import numpy as np\n",
    "import seaborn as sns\n",
    "import time\n",
    "import warnings\n",
    "warnings.filterwarnings(\"ignore\")"
   ]
  },
  {
   "cell_type": "code",
   "execution_count": 2,
   "id": "ba515490",
   "metadata": {},
   "outputs": [],
   "source": [
    "# insert API key below\n",
    "amberdata_client = AmberdataDerivatives(api_key=\"\")"
   ]
  },
  {
   "cell_type": "markdown",
   "id": "87b9707b-637f-4ba5-a103-17ca03a1fdad",
   "metadata": {},
   "source": [
    "amberdata_client.get"
   ]
  },
  {
   "cell_type": "code",
   "execution_count": null,
   "id": "d42630f5",
   "metadata": {},
   "outputs": [],
   "source": [
    "# use this endpoint to get back all of the available instruments on deribit\n",
    "instruments = pd.DataFrame(amberdata_client.get_instruments_information(exchange='deribit')['payload']['data'])\n",
    "instruments.head(10)"
   ]
  },
  {
   "cell_type": "code",
   "execution_count": null,
   "id": "1ee6cc22",
   "metadata": {},
   "outputs": [],
   "source": [
    "# plot put/call trade distribution\n",
    "data = amberdata_client.get_trades_flow_block_volumes(exchange='deribit', currency='btc')\n",
    "data = pd.DataFrame(data['payload']['data'])\n",
    "data = data.groupby(\"putCall\").sum()\n",
    "\n",
    "plt.figure(figsize=(15, 7))\n",
    "labels = ['Calls', 'Puts']\n",
    "plt.pie(data.contractVolume.values.flatten(), labels=labels, autopct='%1.1f%%')\n",
    "plt.title(\"BTC Put Call Trade Distribution Over the Past 7 Days\")"
   ]
  },
  {
   "cell_type": "code",
   "execution_count": null,
   "id": "817313ce",
   "metadata": {},
   "outputs": [],
   "source": [
    "# plot block trade bar plot\n",
    "data = amberdata_client.get_trades_flow_block_volumes(exchange='deribit', currency='btc', startDate='2024-06-14', endDate='2024-06-21')\n",
    "data = pd.DataFrame(data['payload']['data'])\n",
    "\n",
    "data['expirationTimestamp'] = pd.to_datetime(data.expirationTimestamp, unit='ms')\n",
    "data['adj_volume'] = np.where(data.putCall=='P', -data.contractVolume, data.contractVolume)\n",
    "# only look at expiries that are valid today \n",
    "data = data[data.expirationTimestamp >= pd.to_datetime(time.time(), unit='s')]\n",
    "\n",
    "exps = set(data.expirationTimestamp)\n",
    "store = []\n",
    "for exp in exps:\n",
    "    sub = data[data.expirationTimestamp == exp].reset_index(drop=True)    \n",
    "    sub = sub[['expirationTimestamp', 'strike', 'putCall', 'adj_volume']]\n",
    "    # filter out strikes to allow for better visual plotting\n",
    "    sub = sub[(sub.strike > 60_000) & (sub.strike < 80_000)]\n",
    "    sub['maturity'] = exp\n",
    "    store.append(sub)\n",
    "    \n",
    "combined_df = pd.concat(store)\n",
    "pivot_df = combined_df.pivot_table(index='strike', columns='maturity', values='adj_volume', aggfunc='sum').fillna(0)    \n",
    "\n",
    "fig, ax = plt.subplots(figsize=(20, 10))\n",
    "# Define colors for each maturity\n",
    "colors = sns.color_palette(\"husl\", len(pivot_df.columns))\n",
    "maturities = pivot_df.columns\n",
    "\n",
    "# Stack the bars\n",
    "bottom = pd.Series([0]*len(pivot_df), index=pivot_df.index)\n",
    "for maturity, color in zip(maturities, colors):\n",
    "    sns.barplot(x=pivot_df.index, y=pivot_df[maturity], bottom=bottom, label=maturity, color=color)\n",
    "    bottom += pivot_df[maturity]\n",
    "\n",
    "ax.legend(title='Maturities')    \n",
    "ax.set_xlabel('Strike Price')\n",
    "ax.set_ylabel('Contract Volume')\n",
    "yticks = ax.get_yticks()\n",
    "yticklabels = ['C' + str(y) if y > 0 else 'P' + str(-y) if y < 0 else '0' for y in yticks]\n",
    "ax.set_yticklabels(yticklabels);\n",
    "plt.title(\"BTC Block Volume Traded: 2024-06-14 to 2024-06-21\");"
   ]
  },
  {
   "cell_type": "code",
   "execution_count": null,
   "id": "eb0fd5be",
   "metadata": {},
   "outputs": [],
   "source": [
    "# plot top 10 instruments traded\n",
    "data = amberdata_client.get_instruments_most_traded(exchange='deribit', currency='BTC', startDate='2024-06-07', endDate='2024-06-12')\n",
    "data = pd.DataFrame(data['payload']['data'])\n",
    "\n",
    "plt.figure(figsize=(15, 7))\n",
    "plt.barh(data.instrument[:10], data.contractVolume[:10][::-1])\n",
    "plt.title(\"BTC Top 10 Instruments Traded: 2024-06-07 to 2024-06-12\")\n",
    "plt.xlabel(\"Number of Contracts Traded\");"
   ]
  },
  {
   "cell_type": "code",
   "execution_count": null,
   "id": "f228cdad",
   "metadata": {},
   "outputs": [],
   "source": [
    "# plot trade distribution\n",
    "data = amberdata_client.get_trades_flow_put_call_distribution(exchange='deribit', currency='BTC', startDate='2024-06-07', endDate='2024-06-12')\n",
    "data = pd.DataFrame(data['payload']['data'])\n",
    "\n",
    "plt.figure(figsize=(15, 7))\n",
    "labels = ['Calls Bought', 'Puts Bought', 'Calls Sold', 'Puts Sold']\n",
    "plt.pie(data.iloc[:, :4].values.flatten(), labels=labels, autopct='%1.1f%%')\n",
    "plt.title(\"BTC Put Call Trade Distribution: 2024-06-07 to 2024-06-12\");"
   ]
  },
  {
   "cell_type": "code",
   "execution_count": null,
   "id": "c117ad04",
   "metadata": {},
   "outputs": [],
   "source": [
    "# plot normalized gamma USD\n",
    "data = amberdata_client.get_trades_flow_gamma_exposures_normalized_usd(exchange='deribit', currency='btc')\n",
    "data = pd.DataFrame(data['payload']['data'])\n",
    "data.index = pd.to_datetime(data.snapshotTimestamp, unit='ms')\n",
    "\n",
    "plt.figure(figsize=(15, 7))\n",
    "plt.plot(data.normalizedGammaUSD/1_000_000)\n",
    "plt.axhline(0, linestyle='--', c='r')\n",
    "plt.title(\"BTC Normalized Gamma Exposure USD: 2022-11-17 to 2024-06-13\")\n",
    "plt.ylabel(\"USD Gamma Exposure ($ Millions)\");"
   ]
  },
  {
   "cell_type": "code",
   "execution_count": null,
   "id": "f453c19b",
   "metadata": {},
   "outputs": [],
   "source": [
    "# table of gex snapshots across different instruments\n",
    "data = amberdata_client.get_trades_flow_gamma_exposures_snapshots(exchange='deribit', currency='btc', startDate='2024-01-01', endDate='2024-01-02')\n",
    "data = pd.DataFrame(data['payload']['data'])\n",
    "data"
   ]
  },
  {
   "cell_type": "code",
   "execution_count": null,
   "id": "34bf4e2c",
   "metadata": {},
   "outputs": [],
   "source": [
    "# plot top 10 largest vega trades\n",
    "data = amberdata_client.get_options_scanner_top_trades(exchange='deribit', currency='btc', startDate='2024-06-07', endDate='2024-06-12')\n",
    "data = pd.DataFrame(data['payload']['data'])\n",
    "# only look at top 10 \n",
    "data = data.sort_values(\"sizeVega\", ascending=False).head(10).reset_index(drop=True)\n",
    "# sort by descending order \n",
    "plt.figure(figsize=(15, 7))\n",
    "plt.barh(data.instrument, data.sizeVega[::-1])\n",
    "plt.title(\"BTC Largest 10 Vega Option Trades: 2024-06-07 to 2024-06-12\")\n",
    "plt.xlabel(\"Size Vega\")"
   ]
  }
 ],
 "metadata": {
  "kernelspec": {
   "display_name": "Python 3 (ipykernel)",
   "language": "python",
   "name": "python3"
  },
  "language_info": {
   "codemirror_mode": {
    "name": "ipython",
    "version": 3
   },
   "file_extension": ".py",
   "mimetype": "text/x-python",
   "name": "python",
   "nbconvert_exporter": "python",
   "pygments_lexer": "ipython3",
   "version": "3.12.3"
  }
 },
 "nbformat": 4,
 "nbformat_minor": 5
}
